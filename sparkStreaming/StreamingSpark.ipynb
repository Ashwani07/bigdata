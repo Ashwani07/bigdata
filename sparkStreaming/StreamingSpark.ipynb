{
 "cells": [
  {
   "cell_type": "markdown",
   "metadata": {},
   "source": [
    "In this Notebook, we will do basic minimum with spark streaming.<br/>We will save tweets to mongodb.\n",
    "<br/> Spark required java 8"
   ]
  },
  {
   "cell_type": "markdown",
   "metadata": {},
   "source": [
    "### Before starting this code run \n",
    "Change the hashtags in variable WORDS<br/>\n",
    "run : python tweepy_connection.py"
   ]
  },
  {
   "cell_type": "code",
   "execution_count": 1,
   "metadata": {},
   "outputs": [],
   "source": [
    "# Give path to the spark directory.\n",
    "import findspark\n",
    "findspark.init('/home/ashwani/spark/spark-2.4.3-bin-hadoop2.7')"
   ]
  },
  {
   "cell_type": "code",
   "execution_count": 2,
   "metadata": {},
   "outputs": [],
   "source": [
    "#Import Modules\n",
    "from pyspark import SparkConf, SparkContext\n",
    "from pyspark.streaming import StreamingContext\n",
    "\n",
    "import json\n",
    "from pymongo import MongoClient"
   ]
  },
  {
   "cell_type": "code",
   "execution_count": 3,
   "metadata": {},
   "outputs": [],
   "source": [
    "#Mongo db Connection\n",
    "MONGO_HOST= 'mongodb://172.18.0.2:27017/'\n",
    "client = MongoClient(MONGO_HOST)\n",
    "db = client.twitterdb\n",
    "coll = db.general"
   ]
  },
  {
   "cell_type": "code",
   "execution_count": 4,
   "metadata": {},
   "outputs": [],
   "source": [
    "# Create a local StreamingContext and batch interval of 10 seconds\n",
    "conf = SparkConf().setAppName(\"Spark Streaming\")\n",
    "sc = SparkContext(conf = conf)\n",
    "ssc = StreamingContext(sc, 10)"
   ]
  },
  {
   "cell_type": "code",
   "execution_count": 5,
   "metadata": {},
   "outputs": [
    {
     "name": "stdout",
     "output_type": "stream",
     "text": [
      "http://192.168.1.103:4040\n"
     ]
    }
   ],
   "source": [
    "print(sc.uiWebUrl)"
   ]
  },
  {
   "cell_type": "code",
   "execution_count": 6,
   "metadata": {},
   "outputs": [],
   "source": [
    "# Create a DStream that will connect to hostname:port\n",
    "sparkStream = ssc.socketTextStream(\"localhost\", 9010)"
   ]
  },
  {
   "cell_type": "markdown",
   "metadata": {},
   "source": [
    "## Dstream - sparkStream ##\n",
    "Dstream is a collection of RDD saved on cache as a batch process.<br/>Each RDD will be a list of twitter data. the list can be of any length.<br/>The object type of element in list is 'str'. We use json.loads to convert it to dict object."
   ]
  },
  {
   "cell_type": "code",
   "execution_count": 7,
   "metadata": {},
   "outputs": [],
   "source": [
    "def f(rdd):\n",
    "    for t in rdd.collect():\n",
    "        coll.insert_one(json.loads(t))"
   ]
  },
  {
   "cell_type": "code",
   "execution_count": 8,
   "metadata": {},
   "outputs": [],
   "source": [
    "sparkStream.foreachRDD(lambda rdd: f(rdd))\n",
    "\n",
    "ssc.start()"
   ]
  },
  {
   "cell_type": "code",
   "execution_count": 9,
   "metadata": {},
   "outputs": [],
   "source": [
    "ssc.stop()"
   ]
  },
  {
   "cell_type": "code",
   "execution_count": null,
   "metadata": {},
   "outputs": [],
   "source": []
  }
 ],
 "metadata": {
  "kernelspec": {
   "display_name": "kafka-env",
   "language": "python",
   "name": "kafka-env"
  },
  "language_info": {
   "codemirror_mode": {
    "name": "ipython",
    "version": 3
   },
   "file_extension": ".py",
   "mimetype": "text/x-python",
   "name": "python",
   "nbconvert_exporter": "python",
   "pygments_lexer": "ipython3",
   "version": "3.7.3"
  }
 },
 "nbformat": 4,
 "nbformat_minor": 2
}

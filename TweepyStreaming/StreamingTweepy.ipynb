{
 "cells": [
  {
   "cell_type": "markdown",
   "metadata": {},
   "source": [
    "# Stream Twitter data and save it to Mongo Db#"
   ]
  },
  {
   "cell_type": "markdown",
   "metadata": {},
   "source": [
    "Steps <br/>\n",
    "1. First we create a subclass of StreamListener class. Create custom condition in on_data method\n",
    "2. Create an instance of this class\n",
    "3. Create an instance of the tweepy Stream class, which will stream the tweets.\n",
    "    * We pass in our authentication credentials (api.auth) so that Twitter allows us to connect.\n",
    "    * We pass in our stream_listener so that our callback functions are called. \n",
    "4. Start streaming tweets by calling the filter method. Pass in a list of terms to filter on, as the API requires."
   ]
  },
  {
   "cell_type": "code",
   "execution_count": 1,
   "metadata": {},
   "outputs": [],
   "source": [
    "# import libraries\n",
    "import tweepy\n",
    "import json\n",
    "from pymongo import MongoClient"
   ]
  },
  {
   "cell_type": "code",
   "execution_count": 2,
   "metadata": {},
   "outputs": [],
   "source": [
    "# Connect to local mongo database\n",
    "MONGO_HOST= 'mongodb://localhost'\n",
    "client = MongoClient(MONGO_HOST)\n",
    "dbase = 'twitterdb'\n",
    "db_col = 'worldcup2019'"
   ]
  },
  {
   "cell_type": "code",
   "execution_count": 3,
   "metadata": {},
   "outputs": [],
   "source": [
    "# Number of tweets to capture\n",
    "TWEETS_TO_CAPTURE = 100"
   ]
  },
  {
   "cell_type": "code",
   "execution_count": 4,
   "metadata": {},
   "outputs": [],
   "source": [
    "# Words to search for in twitter\n",
    "WORDS = ['cricket', 'worldcup', 'worldcup2019']"
   ]
  },
  {
   "cell_type": "code",
   "execution_count": 5,
   "metadata": {},
   "outputs": [],
   "source": [
    "# Import our access keys and create authorization\n",
    "from credentials import *\n",
    "\n",
    "auth = tweepy.OAuthHandler(CONSUMER_KEY, CONSUMER_SECRET)\n",
    "auth.set_access_token(ACCESS_TOKEN, ACCESS_SECRET)"
   ]
  },
  {
   "cell_type": "code",
   "execution_count": 6,
   "metadata": {},
   "outputs": [],
   "source": [
    "# Create a stream class with has a super class tweepy.StreamListener.\n",
    "# This is a class provided by tweepy to access the Twitter Streaming API. \n",
    "class StreamListener(tweepy.StreamListener):    \n",
    "   \n",
    "    # Class constructor\n",
    "    def __init__(self, api=None):\n",
    "        self.api = api or API()\n",
    "        self.num_tweets  = 0\n",
    "    \n",
    "    # Display a message when the streaming is connected\n",
    "    def on_connect(self):\n",
    "        # Called initially to connect to the Streaming API\n",
    "        print(\"You are now connected to the streaming API.\")\n",
    " \n",
    "    def on_error(self, status_code):\n",
    "        # On error - if an error occurs, display the error / status code\n",
    "        print('An Error has occured: ' + repr(status_code))\n",
    "        return False\n",
    " \n",
    "    #It connects to mongoDB and stores the tweet\n",
    "    def on_data(self, data):\n",
    "        \n",
    "        try:\n",
    "            # Decode the JSON from Twitter.\n",
    "            # data is a 'str' class. We convert it to JSON.\n",
    "            datajson = json.loads(data)\n",
    "            \n",
    "            #grab the 'text' data from the Tweet to use for display\n",
    "            # text = datajson['text']\n",
    "            \n",
    "            # Use database. If it doesn't exist, it will be created.\n",
    "            db = client[dbase]\n",
    "            col = db[db_col]\n",
    "            \n",
    "            #insert the data into a collection\n",
    "            col.insert_one(datajson)\n",
    "            \n",
    "            if not self.on_status(data):\n",
    "                print(str(TWEETS_TO_CAPTURE) +' tweets captured.')\n",
    "                return False\n",
    "            \n",
    "        except Exception as e:\n",
    "           print(e)\n",
    "        \n",
    "    def on_status(self, status):\n",
    "        \n",
    "        # Count the tweets.\n",
    "        self.num_tweets += 1\n",
    "        if self.num_tweets <= TWEETS_TO_CAPTURE:\n",
    "            if self.num_tweets % 10 == 0: # just to see some progress...\n",
    "                print('Numer of tweets captured so far: {}'.format(self.num_tweets))\n",
    "            return True\n",
    "        else:\n",
    "            return False\n"
   ]
  },
  {
   "cell_type": "code",
   "execution_count": 7,
   "metadata": {},
   "outputs": [
    {
     "name": "stdout",
     "output_type": "stream",
     "text": [
      "You are now connected to the streaming API.\n",
      "Numer of tweets captured so far: 10\n",
      "Numer of tweets captured so far: 20\n",
      "Numer of tweets captured so far: 30\n",
      "Numer of tweets captured so far: 40\n",
      "Numer of tweets captured so far: 50\n",
      "Numer of tweets captured so far: 60\n",
      "Numer of tweets captured so far: 70\n",
      "Numer of tweets captured so far: 80\n",
      "Numer of tweets captured so far: 90\n",
      "Numer of tweets captured so far: 100\n",
      "100 tweets captured.\n",
      "Wall time: 23 s\n"
     ]
    }
   ],
   "source": [
    "%%time\n",
    "#let's see how long it takes\n",
    "\n",
    "# Initialize Stream listener\n",
    "stream_listener = StreamListener(api=tweepy.API(wait_on_rate_limit=True))\n",
    "\n",
    "# Create you Stream object with authentication\n",
    "streamer = tweepy.Stream(auth=auth, listener=stream_listener)\n",
    "\n",
    "# Filter Twitter Streams to capture data by the keywords:\n",
    "streamer.filter(track=WORDS)"
   ]
  },
  {
   "cell_type": "code",
   "execution_count": null,
   "metadata": {},
   "outputs": [],
   "source": []
  },
  {
   "cell_type": "code",
   "execution_count": null,
   "metadata": {},
   "outputs": [],
   "source": [
    "\n"
   ]
  },
  {
   "cell_type": "code",
   "execution_count": null,
   "metadata": {},
   "outputs": [],
   "source": []
  }
 ],
 "metadata": {
  "kernelspec": {
   "display_name": "env-spark",
   "language": "python",
   "name": "env-spark"
  },
  "language_info": {
   "codemirror_mode": {
    "name": "ipython",
    "version": 3
   },
   "file_extension": ".py",
   "mimetype": "text/x-python",
   "name": "python",
   "nbconvert_exporter": "python",
   "pygments_lexer": "ipython3",
   "version": "3.6.7"
  }
 },
 "nbformat": 4,
 "nbformat_minor": 2
}
